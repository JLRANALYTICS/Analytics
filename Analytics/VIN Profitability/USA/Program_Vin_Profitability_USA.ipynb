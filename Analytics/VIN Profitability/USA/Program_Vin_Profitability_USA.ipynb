{
 "cells": [
  {
   "cell_type": "markdown",
   "metadata": {},
   "source": [
    "# USA Vin Profitability Load Job Procedure"
   ]
  },
  {
   "cell_type": "markdown",
   "metadata": {},
   "source": [
    "### This notebook contains the process steps required to update the Vin Profitability Biq Query Tables\n",
    "### Created By:  Richard Honey  on  14th April 2017 "
   ]
  },
  {
   "cell_type": "code",
   "execution_count": 126,
   "metadata": {
    "collapsed": true
   },
   "outputs": [],
   "source": [
    "from google.datalab import Context\n",
    "import google.datalab.bigquery as bq\n",
    "import google.da talab.storage as storage\n",
    "import pandas as pd\n",
    "from StringIO import StringIO\n",
    "import googleapiclient.discovery\n",
    "#import gcp.bigquery as bq2"
   ]
  },
  {
   "cell_type": "code",
   "execution_count": null,
   "metadata": {
    "collapsed": true
   },
   "outputs": [],
   "source": [
    "def create_transfer_client():\n",
    "    return googleapiclient.discovery.build('storagetransfer', 'v1')"
   ]
  },
  {
   "cell_type": "markdown",
   "metadata": {},
   "source": [
    "## General ledger append latest data from eSMART Fact Table"
   ]
  },
  {
   "cell_type": "markdown",
   "metadata": {},
   "source": [
    "### Define Schema for eSMART General Ledger Fact Data for Wholesale"
   ]
  },
  {
   "cell_type": "code",
   "execution_count": 127,
   "metadata": {
    "collapsed": false
   },
   "outputs": [],
   "source": [
    "# Step 1 - Go int SAP BW (RSA1) - Find DSO J_FI_D26 - Finance Line Items (eSmart)\n",
    "# Step 2 - Right Click on DSO and select display data\n",
    "# Step 3 - On Characteristcis Selection - Goto 'Read from File' and collect the structure from \n",
    "#          Z:\\Analytics\\Wholesale\\SAP_GL_eSMART_J_FI_D26_Extract_Structure.txt\n",
    "# Step 4 - Select the following GL Accounts \n",
    "#             700050102  Variable Mktg Retail   Accrual Retail Accrual\n",
    "#             900011600  Vehicles Sales Freight\n",
    "#             901020100  Other Revenue Adjustments In Transit Floor Plan\n",
    "#             901030100  Loss On Resale Company Vehicles\n",
    "#             901050100  Variable Dealer Margin   Dealer Standards\n",
    "#             901070200  Duties  Taxes on Revenue 1\n",
    "#             1100030000 Duty  Import Taxes\n",
    "#             1100070500 Oth Cenl Cost   Other Sales Dealers\n",
    "#             1101010107 WAR Extended Cust\n",
    "#             1101010301 WAR Recoveries Gen\n",
    "#             1101010901 WAR Roadside  Gen\n",
    "#             1101011300 WAR Ext Purchase CPO\n",
    "#             1101030000 WAR Serv Plan Costs\n",
    "#             1102020106 FRT Ob Sea USA\n",
    "#             1102040100 FRT Prep PDI  OVC\n",
    "\n",
    "#            \n",
    "# Step 5 - Select company code to US02\n",
    "# Step 6 - On specifications for return type - select \"Store in File Workstation\"\n",
    "#          File location is Z:\\Analytics\\VIN Profitability\\GL Costs Files\\USA\\GL_eSMART_US_MTH_YEAR.CSV\n",
    "# Step 8 - Copy file to Google Storage bucket /sap_data/Wholesales/eSMART\n",
    "#\n",
    "# After completing above steps you can load the US General Ledger data to Big Query\n",
    "finance_schema = bq.Schema([\n",
    "{'name':'AU_VHVIN','type':'STRING'}, # VIN\n",
    "{'name':'CURRENCY','type':'STRING'}, #Currency\n",
    "{'name':'DOC_CURRCY','type':'STRING'}, # doc_currency\n",
    "{'name':'LOC_CURRCY','type':'STRING'},# local_currency\n",
    "{'name':'UNIT','type':'STRING'},# Unit\n",
    "{'name':'ZGACDOCTP','type':'STRING'},# Document Type\n",
    "{'name':'ZGASSNNUM','type':'STRING'}, #Assignment Number\n",
    "{'name':'ZGGLACCNT','type':'STRING'}, # GL Account\n",
    "{'name':'FISCPER','type':'STRING'}, # Fiscal Period\n",
    "{'name':'ZGCOM_COD','type':'STRING'}, # Company Code\n",
    "{'name':'AMOUNT','type':'STRING'}, # Amount\n",
    "{'name':'DEB_CRE_DC','type':'STRING'}, # Debit/Credit Amount Document Currency\n",
    "{'name':'DEB_CRE_LC','type':'STRING'}, # Debit/Credit Amount Local Currency\n",
    "{'name':'DSC_AMT_DC','type':'STRING'}, # Discount Amount Document Currency\n",
    "{'name':'DSC_AMT_lC','type':'STRING'}, # Discount Amount Local Currency\n",
    "{'name':'SR_TAXESLC','type':'STRING'}, # Tax local Amount\n",
    "{'name':'TAX_AMOUNT','type':'STRING'}, # Tax Amount\n",
    "{'name':'ZGBALTPR','type':'STRING'}, # Base List Price\n",
    "{'name':'ZGCOUNTER','type':'STRING'}, # Document Counter\n",
    "{'name':'ZGVESTQTY','type':'STRING'} # Vehicle Stock Quantity\n",
    "])"
   ]
  },
  {
   "cell_type": "markdown",
   "metadata": {},
   "source": [
    "### Define Finance eSMART table to update"
   ]
  },
  {
   "cell_type": "code",
   "execution_count": 128,
   "metadata": {
    "collapsed": false
   },
   "outputs": [],
   "source": [
    "# Define the table to append the latest GL data to\n",
    "Load_finance_table = bq.Table('US_Analytics.FACT_eSMART_GL_Costs_Raw_File')"
   ]
  },
  {
   "cell_type": "markdown",
   "metadata": {},
   "source": [
    "### Load the eSMART GL data to biq query table "
   ]
  },
  {
   "cell_type": "code",
   "execution_count": 129,
   "metadata": {
    "collapsed": false
   },
   "outputs": [
    {
     "data": {
      "text/plain": [
       "Job jlr-dl-dev/job_j1NgEeEG7328VBtVQyuZ-fIFgHs completed"
      ]
     },
     "execution_count": 129,
     "metadata": {},
     "output_type": "execute_result"
    }
   ],
   "source": [
    "Load_finance_table.load('gs://sap_data/Wholesales/eSMART/GL_eSMART_US_JAN_2016.CSV', mode='append',\n",
    "                  source_format = 'csv',\n",
    "                 csv_options=bq.CSVOptions(delimiter=u';',skip_leading_rows=0))"
   ]
  },
  {
   "cell_type": "markdown",
   "metadata": {},
   "source": [
    "### Transpose the eSMART GL monthly finance data into FACT_eSMART_GL_Costs_Transformed"
   ]
  },
  {
   "cell_type": "code",
   "execution_count": 130,
   "metadata": {
    "collapsed": true
   },
   "outputs": [],
   "source": [
    "%%bq query -n finance_transpose_data \n",
    "SELECT * FROM `US_Analytics.HLP_Finance_eSMART_Transpose_Standard`"
   ]
  },
  {
   "cell_type": "markdown",
   "metadata": {},
   "source": [
    "### Run the query and materialize new transposed GL finance table\n",
    "View used to transpose is HLP_Finance_eSMART_Transpose_Standard"
   ]
  },
  {
   "cell_type": "code",
   "execution_count": 140,
   "metadata": {
    "collapsed": false
   },
   "outputs": [
    {
     "data": {
      "text/html": [
       "\n",
       "    <div class=\"bqtv\" id=\"1_149208196190\"><table><tr><th>VIN</th><th>BBSS_Mark_Cost_Local</th><th>Delivery_Revenue_Local</th><th>Floor_Plan_Int_Local</th><th>Loss_On_Resale_Local</th><th>Var_Dealer_Margin_Local</th><th>Duties_Taxes</th><th>Duty_And_Imp_Taxes_Local</th><th>Port_Other_Prep_Local</th><th>Warr_Rav_Repairs_Local</th><th>Service_Loaner_Local</th><th>Warr_Roadside_Local</th><th>CPO_Warr_Local</th><th>Freight_OutB_Local</th><th>Dealer_PDI_Local</th><th>Base_Option_Ind</th><th>Wholesale_price_type</th></tr><tr><td>SALWR2VF2FA617842</td><td>750.0</td><td>0.0</td><td>0.0</td><td>0.0</td><td>0.0</td><td>0.0</td><td>0.0</td><td>0.0</td><td>0.0</td><td>0.0</td><td>0.0</td><td>0.0</td><td>0.0</td><td>0.0</td><td>B</td><td>M</td></tr><tr><td>SALWR2VF4FA523476</td><td>0.0</td><td>0.0</td><td>0.0</td><td>0.0</td><td>0.0</td><td>0.0</td><td>0.0</td><td>0.0</td><td>0.0</td><td>0.0</td><td>0.0</td><td>0.0</td><td>97.86</td><td>0.0</td><td>B</td><td>M</td></tr><tr><td>SALWG2VFXFA531099</td><td>0.0</td><td>0.0</td><td>0.0</td><td>0.0</td><td>0.0</td><td>0.0</td><td>0.0</td><td>23.37</td><td>0.0</td><td>0.0</td><td>0.0</td><td>0.0</td><td>0.0</td><td>0.0</td><td>B</td><td>M</td></tr><tr><td>SAJWJ0FF3F8U75303</td><td>0.0</td><td>0.0</td><td>0.0</td><td>0.0</td><td>0.0</td><td>0.0</td><td>0.0</td><td>23.52</td><td>0.0</td><td>0.0</td><td>0.0</td><td>0.0</td><td>0.0</td><td>0.0</td><td>B</td><td>M</td></tr><tr><td>SAJWJ0FF1F8U73517</td><td>0.0</td><td>0.0</td><td>0.0</td><td>0.0</td><td>0.0</td><td>0.0</td><td>0.0</td><td>0.0</td><td>0.0</td><td>0.0</td><td>0.0</td><td>0.0</td><td>359.0</td><td>0.0</td><td>B</td><td>M</td></tr><tr><td>SAJWA0F72F8U66701</td><td>2500.0</td><td>0.0</td><td>0.0</td><td>0.0</td><td>0.0</td><td>0.0</td><td>0.0</td><td>0.0</td><td>0.0</td><td>0.0</td><td>0.0</td><td>0.0</td><td>0.0</td><td>0.0</td><td>B</td><td>M</td></tr><tr><td>SAJWJ0FF6F8U60827</td><td>2000.0</td><td>0.0</td><td>0.0</td><td>0.0</td><td>0.0</td><td>0.0</td><td>0.0</td><td>0.0</td><td>0.0</td><td>0.0</td><td>0.0</td><td>0.0</td><td>0.0</td><td>0.0</td><td>B</td><td>M</td></tr><tr><td>SAJWA0HP3FMU67117</td><td>0.0</td><td>0.0</td><td>0.0</td><td>0.0</td><td>0.0</td><td>0.0</td><td>0.0</td><td>4.08</td><td>0.0</td><td>0.0</td><td>0.0</td><td>0.0</td><td>576.0</td><td>0.0</td><td>B</td><td>M</td></tr><tr><td>SALWR2VF8FA619014</td><td>1000.0</td><td>0.0</td><td>0.0</td><td>0.0</td><td>0.0</td><td>0.0</td><td>0.0</td><td>0.0</td><td>0.0</td><td>0.0</td><td>0.0</td><td>0.0</td><td>0.0</td><td>0.0</td><td>B</td><td>M</td></tr><tr><td>SALLSAAD4AA240184</td><td>0.0</td><td>0.0</td><td>0.0</td><td>0.0</td><td>0.0</td><td>0.0</td><td>0.0</td><td>0.0</td><td>0.0</td><td>0.0</td><td>0.0</td><td>389.18</td><td>0.0</td><td>0.0</td><td>B</td><td>M</td></tr><tr><td>SAJWA2GZ7E8V69543</td><td>11000.0</td><td>0.0</td><td>0.0</td><td>0.0</td><td>0.0</td><td>0.0</td><td>0.0</td><td>0.0</td><td>0.0</td><td>0.0</td><td>0.0</td><td>0.0</td><td>0.0</td><td>0.0</td><td>B</td><td>M</td></tr><tr><td>SAJWA6ET4F8K19942</td><td>35000.0</td><td>0.0</td><td>0.0</td><td>0.0</td><td>0.0</td><td>0.0</td><td>0.0</td><td>0.0</td><td>0.0</td><td>0.0</td><td>0.0</td><td>0.0</td><td>0.0</td><td>0.0</td><td>B</td><td>M</td></tr><tr><td>SALWR2VFXFA524664</td><td>0.0</td><td>0.0</td><td>0.0</td><td>0.0</td><td>0.0</td><td>0.0</td><td>0.0</td><td>0.84</td><td>0.0</td><td>0.0</td><td>0.0</td><td>0.0</td><td>230.29</td><td>0.0</td><td>B</td><td>M</td></tr><tr><td>SAJWA6AT5F8K17722</td><td>1500.0</td><td>0.0</td><td>0.0</td><td>0.0</td><td>0.0</td><td>0.0</td><td>0.0</td><td>0.0</td><td>0.0</td><td>0.0</td><td>0.0</td><td>0.0</td><td>0.0</td><td>0.0</td><td>B</td><td>M</td></tr><tr><td>SALGS2TF8FA219496</td><td>500.0</td><td>0.0</td><td>0.0</td><td>0.0</td><td>0.0</td><td>0.0</td><td>0.0</td><td>0.0</td><td>0.0</td><td>0.0</td><td>0.0</td><td>0.0</td><td>0.0</td><td>0.0</td><td>B</td><td>M</td></tr><tr><td>SAJWA6ET0F8K21395</td><td>25000.0</td><td>0.0</td><td>0.0</td><td>0.0</td><td>0.0</td><td>0.0</td><td>0.0</td><td>0.0</td><td>0.0</td><td>0.0</td><td>0.0</td><td>0.0</td><td>0.0</td><td>0.0</td><td>B</td><td>M</td></tr><tr><td>SAJWA6AT3G8K22404</td><td>1000.0</td><td>0.0</td><td>0.0</td><td>0.0</td><td>0.0</td><td>0.0</td><td>0.0</td><td>0.0</td><td>0.0</td><td>0.0</td><td>0.0</td><td>0.0</td><td>0.0</td><td>0.0</td><td>B</td><td>M</td></tr><tr><td>SALGS2TF2FA224077</td><td>0.0</td><td>0.0</td><td>0.0</td><td>0.0</td><td>0.0</td><td>0.0</td><td>0.0</td><td>54.25</td><td>0.0</td><td>0.0</td><td>0.0</td><td>0.0</td><td>0.0</td><td>0.0</td><td>B</td><td>M</td></tr><tr><td>SAJWA6BU6F8K16327</td><td>2500.0</td><td>0.0</td><td>0.0</td><td>0.0</td><td>0.0</td><td>0.0</td><td>0.0</td><td>0.0</td><td>0.0</td><td>0.0</td><td>0.0</td><td>0.0</td><td>0.0</td><td>0.0</td><td>B</td><td>M</td></tr><tr><td>SALSH2E44DA787584</td><td>0.0</td><td>0.0</td><td>0.0</td><td>0.0</td><td>0.0</td><td>0.0</td><td>0.0</td><td>0.0</td><td>0.0</td><td>0.0</td><td>0.0</td><td>33.0</td><td>0.0</td><td>0.0</td><td>B</td><td>M</td></tr><tr><td>SALWR2VF1FA607898</td><td>750.0</td><td>0.0</td><td>0.0</td><td>0.0</td><td>0.0</td><td>0.0</td><td>0.0</td><td>0.0</td><td>0.0</td><td>0.0</td><td>0.0</td><td>0.0</td><td>0.0</td><td>0.0</td><td>B</td><td>M</td></tr><tr><td>SAJWJ1CD8F8V83893</td><td>2500.0</td><td>0.0</td><td>0.0</td><td>0.0</td><td>0.0</td><td>0.0</td><td>0.0</td><td>0.0</td><td>0.0</td><td>0.0</td><td>0.0</td><td>0.0</td><td>0.0</td><td>0.0</td><td>B</td><td>M</td></tr><tr><td>SAJWA6FC7F8K14944</td><td>12500.0</td><td>0.0</td><td>0.0</td><td>0.0</td><td>0.0</td><td>0.0</td><td>0.0</td><td>0.0</td><td>0.0</td><td>0.0</td><td>0.0</td><td>0.0</td><td>0.0</td><td>0.0</td><td>B</td><td>M</td></tr><tr><td>SAJWJ6FV8G8K23137</td><td>0.0</td><td>0.0</td><td>0.0</td><td>0.0</td><td>0.0</td><td>0.0</td><td>0.0</td><td>23.52</td><td>0.0</td><td>0.0</td><td>0.0</td><td>0.0</td><td>0.0</td><td>0.0</td><td>B</td><td>M</td></tr><tr><td>SALVT2BG8FH047122</td><td>0.0</td><td>0.0</td><td>0.0</td><td>0.0</td><td>0.0</td><td>0.0</td><td>0.0</td><td>0.0</td><td>0.0</td><td>0.0</td><td>0.0</td><td>0.0</td><td>176.5</td><td>0.0</td><td>B</td><td>M</td></tr></table></div>\n",
       "    <br />(rows: 39662, time: 4.6s,     4MB processed, job: job_7KCi5zg6cmMpqJCFzhrmXd9BASk)<br />\n",
       "    <script>\n",
       "\n",
       "      require.config({\n",
       "        paths: {\n",
       "          d3: '//cdnjs.cloudflare.com/ajax/libs/d3/3.4.13/d3',\n",
       "          plotly: 'https://cdn.plot.ly/plotly-1.5.1.min.js?noext',\n",
       "          jquery: '//ajax.googleapis.com/ajax/libs/jquery/2.0.0/jquery.min'\n",
       "        },\n",
       "        map: {\n",
       "          '*': {\n",
       "            datalab: 'nbextensions/gcpdatalab'\n",
       "          }\n",
       "        },\n",
       "        shim: {\n",
       "          plotly: {\n",
       "            deps: ['d3', 'jquery'],\n",
       "            exports: 'plotly'\n",
       "          }\n",
       "        }\n",
       "      });\n",
       "\n",
       "      require(['datalab/charting', 'datalab/element!1_149208196190', 'base/js/events',\n",
       "          'datalab/style!/nbextensions/gcpdatalab/charting.css'],\n",
       "        function(charts, dom, events) {\n",
       "          charts.render('gcharts', dom, events, 'paged_table', [], {\"rows\": [{\"c\": [{\"v\": \"SALWR2VF2FA617842\"}, {\"v\": 750.0}, {\"v\": 0.0}, {\"v\": 0.0}, {\"v\": 0.0}, {\"v\": 0.0}, {\"v\": 0.0}, {\"v\": 0.0}, {\"v\": 0.0}, {\"v\": 0.0}, {\"v\": 0.0}, {\"v\": 0.0}, {\"v\": 0.0}, {\"v\": 0.0}, {\"v\": 0.0}, {\"v\": \"B\"}, {\"v\": \"M\"}]}, {\"c\": [{\"v\": \"SALWR2VF4FA523476\"}, {\"v\": 0.0}, {\"v\": 0.0}, {\"v\": 0.0}, {\"v\": 0.0}, {\"v\": 0.0}, {\"v\": 0.0}, {\"v\": 0.0}, {\"v\": 0.0}, {\"v\": 0.0}, {\"v\": 0.0}, {\"v\": 0.0}, {\"v\": 0.0}, {\"v\": 97.86}, {\"v\": 0.0}, {\"v\": \"B\"}, {\"v\": \"M\"}]}, {\"c\": [{\"v\": \"SALWG2VFXFA531099\"}, {\"v\": 0.0}, {\"v\": 0.0}, {\"v\": 0.0}, {\"v\": 0.0}, {\"v\": 0.0}, {\"v\": 0.0}, {\"v\": 0.0}, {\"v\": 23.37}, {\"v\": 0.0}, {\"v\": 0.0}, {\"v\": 0.0}, {\"v\": 0.0}, {\"v\": 0.0}, {\"v\": 0.0}, {\"v\": \"B\"}, {\"v\": \"M\"}]}, {\"c\": [{\"v\": \"SAJWJ0FF3F8U75303\"}, {\"v\": 0.0}, {\"v\": 0.0}, {\"v\": 0.0}, {\"v\": 0.0}, {\"v\": 0.0}, {\"v\": 0.0}, {\"v\": 0.0}, {\"v\": 23.52}, {\"v\": 0.0}, {\"v\": 0.0}, {\"v\": 0.0}, {\"v\": 0.0}, {\"v\": 0.0}, {\"v\": 0.0}, {\"v\": \"B\"}, {\"v\": \"M\"}]}, {\"c\": [{\"v\": \"SAJWJ0FF1F8U73517\"}, {\"v\": 0.0}, {\"v\": 0.0}, {\"v\": 0.0}, {\"v\": 0.0}, {\"v\": 0.0}, {\"v\": 0.0}, {\"v\": 0.0}, {\"v\": 0.0}, {\"v\": 0.0}, {\"v\": 0.0}, {\"v\": 0.0}, {\"v\": 0.0}, {\"v\": 359.0}, {\"v\": 0.0}, {\"v\": \"B\"}, {\"v\": \"M\"}]}, {\"c\": [{\"v\": \"SAJWA0F72F8U66701\"}, {\"v\": 2500.0}, {\"v\": 0.0}, {\"v\": 0.0}, {\"v\": 0.0}, {\"v\": 0.0}, {\"v\": 0.0}, {\"v\": 0.0}, {\"v\": 0.0}, {\"v\": 0.0}, {\"v\": 0.0}, {\"v\": 0.0}, {\"v\": 0.0}, {\"v\": 0.0}, {\"v\": 0.0}, {\"v\": \"B\"}, {\"v\": \"M\"}]}, {\"c\": [{\"v\": \"SAJWJ0FF6F8U60827\"}, {\"v\": 2000.0}, {\"v\": 0.0}, {\"v\": 0.0}, {\"v\": 0.0}, {\"v\": 0.0}, {\"v\": 0.0}, {\"v\": 0.0}, {\"v\": 0.0}, {\"v\": 0.0}, {\"v\": 0.0}, {\"v\": 0.0}, {\"v\": 0.0}, {\"v\": 0.0}, {\"v\": 0.0}, {\"v\": \"B\"}, {\"v\": \"M\"}]}, {\"c\": [{\"v\": \"SAJWA0HP3FMU67117\"}, {\"v\": 0.0}, {\"v\": 0.0}, {\"v\": 0.0}, {\"v\": 0.0}, {\"v\": 0.0}, {\"v\": 0.0}, {\"v\": 0.0}, {\"v\": 4.08}, {\"v\": 0.0}, {\"v\": 0.0}, {\"v\": 0.0}, {\"v\": 0.0}, {\"v\": 576.0}, {\"v\": 0.0}, {\"v\": \"B\"}, {\"v\": \"M\"}]}, {\"c\": [{\"v\": \"SALWR2VF8FA619014\"}, {\"v\": 1000.0}, {\"v\": 0.0}, {\"v\": 0.0}, {\"v\": 0.0}, {\"v\": 0.0}, {\"v\": 0.0}, {\"v\": 0.0}, {\"v\": 0.0}, {\"v\": 0.0}, {\"v\": 0.0}, {\"v\": 0.0}, {\"v\": 0.0}, {\"v\": 0.0}, {\"v\": 0.0}, {\"v\": \"B\"}, {\"v\": \"M\"}]}, {\"c\": [{\"v\": \"SALLSAAD4AA240184\"}, {\"v\": 0.0}, {\"v\": 0.0}, {\"v\": 0.0}, {\"v\": 0.0}, {\"v\": 0.0}, {\"v\": 0.0}, {\"v\": 0.0}, {\"v\": 0.0}, {\"v\": 0.0}, {\"v\": 0.0}, {\"v\": 0.0}, {\"v\": 389.18}, {\"v\": 0.0}, {\"v\": 0.0}, {\"v\": \"B\"}, {\"v\": \"M\"}]}, {\"c\": [{\"v\": \"SAJWA2GZ7E8V69543\"}, {\"v\": 11000.0}, {\"v\": 0.0}, {\"v\": 0.0}, {\"v\": 0.0}, {\"v\": 0.0}, {\"v\": 0.0}, {\"v\": 0.0}, {\"v\": 0.0}, {\"v\": 0.0}, {\"v\": 0.0}, {\"v\": 0.0}, {\"v\": 0.0}, {\"v\": 0.0}, {\"v\": 0.0}, {\"v\": \"B\"}, {\"v\": \"M\"}]}, {\"c\": [{\"v\": \"SAJWA6ET4F8K19942\"}, {\"v\": 35000.0}, {\"v\": 0.0}, {\"v\": 0.0}, {\"v\": 0.0}, {\"v\": 0.0}, {\"v\": 0.0}, {\"v\": 0.0}, {\"v\": 0.0}, {\"v\": 0.0}, {\"v\": 0.0}, {\"v\": 0.0}, {\"v\": 0.0}, {\"v\": 0.0}, {\"v\": 0.0}, {\"v\": \"B\"}, {\"v\": \"M\"}]}, {\"c\": [{\"v\": \"SALWR2VFXFA524664\"}, {\"v\": 0.0}, {\"v\": 0.0}, {\"v\": 0.0}, {\"v\": 0.0}, {\"v\": 0.0}, {\"v\": 0.0}, {\"v\": 0.0}, {\"v\": 0.84}, {\"v\": 0.0}, {\"v\": 0.0}, {\"v\": 0.0}, {\"v\": 0.0}, {\"v\": 230.29}, {\"v\": 0.0}, {\"v\": \"B\"}, {\"v\": \"M\"}]}, {\"c\": [{\"v\": \"SAJWA6AT5F8K17722\"}, {\"v\": 1500.0}, {\"v\": 0.0}, {\"v\": 0.0}, {\"v\": 0.0}, {\"v\": 0.0}, {\"v\": 0.0}, {\"v\": 0.0}, {\"v\": 0.0}, {\"v\": 0.0}, {\"v\": 0.0}, {\"v\": 0.0}, {\"v\": 0.0}, {\"v\": 0.0}, {\"v\": 0.0}, {\"v\": \"B\"}, {\"v\": \"M\"}]}, {\"c\": [{\"v\": \"SALGS2TF8FA219496\"}, {\"v\": 500.0}, {\"v\": 0.0}, {\"v\": 0.0}, {\"v\": 0.0}, {\"v\": 0.0}, {\"v\": 0.0}, {\"v\": 0.0}, {\"v\": 0.0}, {\"v\": 0.0}, {\"v\": 0.0}, {\"v\": 0.0}, {\"v\": 0.0}, {\"v\": 0.0}, {\"v\": 0.0}, {\"v\": \"B\"}, {\"v\": \"M\"}]}, {\"c\": [{\"v\": \"SAJWA6ET0F8K21395\"}, {\"v\": 25000.0}, {\"v\": 0.0}, {\"v\": 0.0}, {\"v\": 0.0}, {\"v\": 0.0}, {\"v\": 0.0}, {\"v\": 0.0}, {\"v\": 0.0}, {\"v\": 0.0}, {\"v\": 0.0}, {\"v\": 0.0}, {\"v\": 0.0}, {\"v\": 0.0}, {\"v\": 0.0}, {\"v\": \"B\"}, {\"v\": \"M\"}]}, {\"c\": [{\"v\": \"SAJWA6AT3G8K22404\"}, {\"v\": 1000.0}, {\"v\": 0.0}, {\"v\": 0.0}, {\"v\": 0.0}, {\"v\": 0.0}, {\"v\": 0.0}, {\"v\": 0.0}, {\"v\": 0.0}, {\"v\": 0.0}, {\"v\": 0.0}, {\"v\": 0.0}, {\"v\": 0.0}, {\"v\": 0.0}, {\"v\": 0.0}, {\"v\": \"B\"}, {\"v\": \"M\"}]}, {\"c\": [{\"v\": \"SALGS2TF2FA224077\"}, {\"v\": 0.0}, {\"v\": 0.0}, {\"v\": 0.0}, {\"v\": 0.0}, {\"v\": 0.0}, {\"v\": 0.0}, {\"v\": 0.0}, {\"v\": 54.25}, {\"v\": 0.0}, {\"v\": 0.0}, {\"v\": 0.0}, {\"v\": 0.0}, {\"v\": 0.0}, {\"v\": 0.0}, {\"v\": \"B\"}, {\"v\": \"M\"}]}, {\"c\": [{\"v\": \"SAJWA6BU6F8K16327\"}, {\"v\": 2500.0}, {\"v\": 0.0}, {\"v\": 0.0}, {\"v\": 0.0}, {\"v\": 0.0}, {\"v\": 0.0}, {\"v\": 0.0}, {\"v\": 0.0}, {\"v\": 0.0}, {\"v\": 0.0}, {\"v\": 0.0}, {\"v\": 0.0}, {\"v\": 0.0}, {\"v\": 0.0}, {\"v\": \"B\"}, {\"v\": \"M\"}]}, {\"c\": [{\"v\": \"SALSH2E44DA787584\"}, {\"v\": 0.0}, {\"v\": 0.0}, {\"v\": 0.0}, {\"v\": 0.0}, {\"v\": 0.0}, {\"v\": 0.0}, {\"v\": 0.0}, {\"v\": 0.0}, {\"v\": 0.0}, {\"v\": 0.0}, {\"v\": 0.0}, {\"v\": 33.0}, {\"v\": 0.0}, {\"v\": 0.0}, {\"v\": \"B\"}, {\"v\": \"M\"}]}, {\"c\": [{\"v\": \"SALWR2VF1FA607898\"}, {\"v\": 750.0}, {\"v\": 0.0}, {\"v\": 0.0}, {\"v\": 0.0}, {\"v\": 0.0}, {\"v\": 0.0}, {\"v\": 0.0}, {\"v\": 0.0}, {\"v\": 0.0}, {\"v\": 0.0}, {\"v\": 0.0}, {\"v\": 0.0}, {\"v\": 0.0}, {\"v\": 0.0}, {\"v\": \"B\"}, {\"v\": \"M\"}]}, {\"c\": [{\"v\": \"SAJWJ1CD8F8V83893\"}, {\"v\": 2500.0}, {\"v\": 0.0}, {\"v\": 0.0}, {\"v\": 0.0}, {\"v\": 0.0}, {\"v\": 0.0}, {\"v\": 0.0}, {\"v\": 0.0}, {\"v\": 0.0}, {\"v\": 0.0}, {\"v\": 0.0}, {\"v\": 0.0}, {\"v\": 0.0}, {\"v\": 0.0}, {\"v\": \"B\"}, {\"v\": \"M\"}]}, {\"c\": [{\"v\": \"SAJWA6FC7F8K14944\"}, {\"v\": 12500.0}, {\"v\": 0.0}, {\"v\": 0.0}, {\"v\": 0.0}, {\"v\": 0.0}, {\"v\": 0.0}, {\"v\": 0.0}, {\"v\": 0.0}, {\"v\": 0.0}, {\"v\": 0.0}, {\"v\": 0.0}, {\"v\": 0.0}, {\"v\": 0.0}, {\"v\": 0.0}, {\"v\": \"B\"}, {\"v\": \"M\"}]}, {\"c\": [{\"v\": \"SAJWJ6FV8G8K23137\"}, {\"v\": 0.0}, {\"v\": 0.0}, {\"v\": 0.0}, {\"v\": 0.0}, {\"v\": 0.0}, {\"v\": 0.0}, {\"v\": 0.0}, {\"v\": 23.52}, {\"v\": 0.0}, {\"v\": 0.0}, {\"v\": 0.0}, {\"v\": 0.0}, {\"v\": 0.0}, {\"v\": 0.0}, {\"v\": \"B\"}, {\"v\": \"M\"}]}, {\"c\": [{\"v\": \"SALVT2BG8FH047122\"}, {\"v\": 0.0}, {\"v\": 0.0}, {\"v\": 0.0}, {\"v\": 0.0}, {\"v\": 0.0}, {\"v\": 0.0}, {\"v\": 0.0}, {\"v\": 0.0}, {\"v\": 0.0}, {\"v\": 0.0}, {\"v\": 0.0}, {\"v\": 0.0}, {\"v\": 176.5}, {\"v\": 0.0}, {\"v\": \"B\"}, {\"v\": \"M\"}]}], \"cols\": [{\"type\": \"string\", \"id\": \"VIN\", \"label\": \"VIN\"}, {\"type\": \"number\", \"id\": \"BBSS_Mark_Cost_Local\", \"label\": \"BBSS_Mark_Cost_Local\"}, {\"type\": \"number\", \"id\": \"Delivery_Revenue_Local\", \"label\": \"Delivery_Revenue_Local\"}, {\"type\": \"number\", \"id\": \"Floor_Plan_Int_Local\", \"label\": \"Floor_Plan_Int_Local\"}, {\"type\": \"number\", \"id\": \"Loss_On_Resale_Local\", \"label\": \"Loss_On_Resale_Local\"}, {\"type\": \"number\", \"id\": \"Var_Dealer_Margin_Local\", \"label\": \"Var_Dealer_Margin_Local\"}, {\"type\": \"number\", \"id\": \"Duties_Taxes\", \"label\": \"Duties_Taxes\"}, {\"type\": \"number\", \"id\": \"Duty_And_Imp_Taxes_Local\", \"label\": \"Duty_And_Imp_Taxes_Local\"}, {\"type\": \"number\", \"id\": \"Port_Other_Prep_Local\", \"label\": \"Port_Other_Prep_Local\"}, {\"type\": \"number\", \"id\": \"Warr_Rav_Repairs_Local\", \"label\": \"Warr_Rav_Repairs_Local\"}, {\"type\": \"number\", \"id\": \"Service_Loaner_Local\", \"label\": \"Service_Loaner_Local\"}, {\"type\": \"number\", \"id\": \"Warr_Roadside_Local\", \"label\": \"Warr_Roadside_Local\"}, {\"type\": \"number\", \"id\": \"CPO_Warr_Local\", \"label\": \"CPO_Warr_Local\"}, {\"type\": \"number\", \"id\": \"Freight_OutB_Local\", \"label\": \"Freight_OutB_Local\"}, {\"type\": \"number\", \"id\": \"Dealer_PDI_Local\", \"label\": \"Dealer_PDI_Local\"}, {\"type\": \"string\", \"id\": \"Base_Option_Ind\", \"label\": \"Base_Option_Ind\"}, {\"type\": \"string\", \"id\": \"Wholesale_price_type\", \"label\": \"Wholesale_price_type\"}]},\n",
       "            {\n",
       "              pageSize: 25,\n",
       "              cssClassNames:  {\n",
       "                tableRow: 'gchart-table-row',\n",
       "                headerRow: 'gchart-table-headerrow',\n",
       "                oddTableRow: 'gchart-table-oddrow',\n",
       "                selectedTableRow: 'gchart-table-selectedrow',\n",
       "                hoverTableRow: 'gchart-table-hoverrow',\n",
       "                tableCell: 'gchart-table-cell',\n",
       "                headerCell: 'gchart-table-headercell',\n",
       "                rowNumberCell: 'gchart-table-rownumcell'\n",
       "              }\n",
       "            },\n",
       "            {source_index: 0, fields: 'VIN,BBSS_Mark_Cost_Local,Delivery_Revenue_Local,Floor_Plan_Int_Local,Loss_On_Resale_Local,Var_Dealer_Margin_Local,Duties_Taxes,Duty_And_Imp_Taxes_Local,Port_Other_Prep_Local,Warr_Rav_Repairs_Local,Service_Loaner_Local,Warr_Roadside_Local,CPO_Warr_Local,Freight_OutB_Local,Dealer_PDI_Local,Base_Option_Ind,Wholesale_price_type'},\n",
       "            0,\n",
       "            39662);\n",
       "        }\n",
       "      );\n",
       "    </script>\n",
       "  "
      ],
      "text/plain": [
       "QueryResultsTable job_7KCi5zg6cmMpqJCFzhrmXd9BASk"
      ]
     },
     "execution_count": 140,
     "metadata": {},
     "output_type": "execute_result"
    }
   ],
   "source": [
    "%bq execute -q finance_transpose_data -t , --table US_Analytics.FACT_eSMART_GL_Costs_Transformed --mode='overwrite'"
   ]
  },
  {
   "cell_type": "markdown",
   "metadata": {},
   "source": [
    "## Chase Load -  add the latest quarter of USA chase data to the Big Query Raw Data Table"
   ]
  },
  {
   "cell_type": "markdown",
   "metadata": {},
   "source": [
    "### Backup existing Big Query USA Chase Table"
   ]
  },
  {
   "cell_type": "code",
   "execution_count": 183,
   "metadata": {
    "collapsed": true
   },
   "outputs": [],
   "source": [
    "# Delete Backup so we can replace with new one\n",
    "%bq tables delete -n 'US_Analytics.FACT_eSMART_Chase_Raw_File_Backup'"
   ]
  },
  {
   "cell_type": "code",
   "execution_count": 184,
   "metadata": {
    "collapsed": true
   },
   "outputs": [],
   "source": [
    "# Set the job name as current date\n",
    "#!/usr/bin/python\n",
    " \n",
    "from datetime import datetime\n",
    " \n",
    "i = datetime.now()\n",
    " \n",
    "ts =  i.strftime('%Y%m%d%H%M%S')"
   ]
  },
  {
   "cell_type": "code",
   "execution_count": 185,
   "metadata": {
    "collapsed": false
   },
   "outputs": [
    {
     "name": "stdout",
     "output_type": "stream",
     "text": [
      "DONE\n"
     ]
    },
    {
     "data": {
      "text/plain": [
       "datetime.datetime(2017, 4, 24, 9, 58, 16, 76000, tzinfo=<UTC>)"
      ]
     },
     "execution_count": 185,
     "metadata": {},
     "output_type": "execute_result"
    }
   ],
   "source": [
    "# Copy US_Analytics.FACT_eSMART_Chase_Raw_File to US_Analytics.FACT_eSMART_Chase_Raw_File_Backup for safety\n",
    "from google.cloud import bigquery\n",
    "\n",
    "client = bigquery.Client()\n",
    "dataset = client.dataset('US_Analytics')\n",
    "source_table = dataset.table('FACT_eSMART_Chase_Raw_File')\n",
    "destination_table = dataset.table('FACT_eSMART_Chase_Raw_File_Backup')\n",
    "\n",
    "import time\n",
    "\n",
    "job = client.copy_table(ts, destination_table, source_table)\n",
    "\n",
    "job.begin()\n",
    "\n",
    "retry_count = 100\n",
    "while retry_count > 0 and job.state != 'DONE':\n",
    "  retry_count = 1\n",
    "  time.sleep(10)\n",
    "  job.reload()  # API call\n",
    "print(job.state)\n",
    "job.ended"
   ]
  },
  {
   "cell_type": "markdown",
   "metadata": {},
   "source": [
    "### Define the  chase load schema "
   ]
  },
  {
   "cell_type": "code",
   "execution_count": 197,
   "metadata": {
    "collapsed": false
   },
   "outputs": [],
   "source": [
    "# Step 1 - Select the latest Chase File CHASE_USA_APR_MTH_YYYY (CHASE_USA_SEPT_2017) located in Storage Bucket /sap_data/Vin_Profitability/Loan System/USA   \n",
    "Chase_schema = bq.Schema([\n",
    "{'name':'VIN','type':'STRING'},#VIN\n",
    "{'name':'Booking_Date','type':'STRING'},#Booking Date\n",
    "{'name':'Subvention','type':'FLOAT'},#Subvention Amount    \n",
    "{'name':'Subvention_Type','type':'STRING'},#Subvention Type\n",
    "])"
   ]
  },
  {
   "cell_type": "markdown",
   "metadata": {},
   "source": [
    "### Define the  USA Chase table to load data"
   ]
  },
  {
   "cell_type": "code",
   "execution_count": 198,
   "metadata": {
    "collapsed": false
   },
   "outputs": [],
   "source": [
    "# Define the table to recreate from appended Chase File\n",
    "Load_Chase = bq.Table('US_Analytics.FACT_eSMART_Chase_Raw_File')"
   ]
  },
  {
   "cell_type": "markdown",
   "metadata": {},
   "source": [
    "### Append the latest Chase CSV to the Biq Query Table\n",
    "File Format: CHASE_USA_FROM_TO_YEAR.csv  (Example CHASE_USA_APR_SEPT_2017.csv)"
   ]
  },
  {
   "cell_type": "code",
   "execution_count": 200,
   "metadata": {
    "collapsed": false
   },
   "outputs": [
    {
     "data": {
      "text/plain": [
       "Job jlr-dl-dev/job_E7DWD8p9wAC7gtVfUsneZRXNis0 completed"
      ]
     },
     "execution_count": 200,
     "metadata": {},
     "output_type": "execute_result"
    }
   ],
   "source": [
    "Load_Chase.load('gs://sap_data/Vin_Profitability/CHASE_USA_APR_SEPT_2017.csv', mode='append',\n",
    "                  source_format = 'csv',csv_options=bq.CSVOptions(delimiter=u',',skip_leading_rows=1))"
   ]
  },
  {
   "cell_type": "markdown",
   "metadata": {},
   "source": [
    "### Transpose the Chase Raw Data "
   ]
  },
  {
   "cell_type": "code",
   "execution_count": 201,
   "metadata": {
    "collapsed": true
   },
   "outputs": [],
   "source": [
    "%%bq query -n chase_transpose_data \n",
    "SELECT * FROM `US_Analytics.HLP_Chase_eSMART_Transpose_Standard`"
   ]
  },
  {
   "cell_type": "markdown",
   "metadata": {},
   "source": [
    "### Run the query and materialize new transposed US Chase table\n",
    "View used to transpose is HLP_Chase_eSMART_Transpose_Standard"
   ]
  },
  {
   "cell_type": "code",
   "execution_count": 202,
   "metadata": {
    "collapsed": false
   },
   "outputs": [
    {
     "data": {
      "text/html": [
       "\n",
       "    <div class=\"bqtv\" id=\"2_149310995741\"><table><tr><th>VIN</th><th>Chase_APR_Rate</th><th>Chase_Lease_Rate</th><th>Chase_RV</th><th>Chase_Pull_Ahead</th></tr><tr><td>SALGS2KF0GA305629</td><td>0.0</td><td>3603.08</td><td>0.0</td><td>0.0</td></tr><tr><td>SAJAR4BG6HA965089</td><td>0.0</td><td>2551.43</td><td>0.0</td><td>0.0</td></tr><tr><td>SALCR2BG9GH625400</td><td>0.0</td><td>3716.24</td><td>0.0</td><td>0.0</td></tr><tr><td>SALVP2BG0GH081996</td><td>0.0</td><td>4404.76</td><td>0.0</td><td>0.0</td></tr><tr><td>SALVP2BG9GH117877</td><td>0.0</td><td>5162.95</td><td>0.0</td><td>0.0</td></tr><tr><td>SALGS2PF0GA314792</td><td>0.0</td><td>7298.4</td><td>0.0</td><td>0.0</td></tr><tr><td>SALCR2BG8HH646823</td><td>0.0</td><td>1095.99</td><td>0.0</td><td>0.0</td></tr><tr><td>SALVD2BG5HH169159</td><td>0.0</td><td>6346.88</td><td>0.0</td><td>0.0</td></tr><tr><td>SAJAD4BG9HA958250</td><td>0.0</td><td>4016.62</td><td>0.0</td><td>0.0</td></tr><tr><td>SAJWA6BC1F8K10944</td><td>0.0</td><td>11673.23</td><td>0.0</td><td>0.0</td></tr><tr><td>SALVP2BG5GH110733</td><td>0.0</td><td>5331.23</td><td>0.0</td><td>0.0</td></tr><tr><td>SAJAD4BV7HA970198</td><td>0.0</td><td>3519.51</td><td>0.0</td><td>0.0</td></tr><tr><td>SALVP2BGXGH087708</td><td>0.0</td><td>5188.75</td><td>0.0</td><td>0.0</td></tr><tr><td>SALCP2BG8GH574526</td><td>0.0</td><td>2131.53</td><td>0.0</td><td>0.0</td></tr><tr><td>SALWG2PF5GA658888</td><td>0.0</td><td>974.51</td><td>0.0</td><td>0.0</td></tr><tr><td>SAJWA6AT9G8K28918</td><td>0.0</td><td>2648.95</td><td>0.0</td><td>0.0</td></tr><tr><td>SAJWA6ET1G8K34450</td><td>0.0</td><td>6464.95</td><td>0.0</td><td>0.0</td></tr><tr><td>SALVP2BG0GH150024</td><td>0.0</td><td>5190.92</td><td>0.0</td><td>0.0</td></tr><tr><td>SALCR2BG1HH645352</td><td>0.0</td><td>1163.45</td><td>0.0</td><td>0.0</td></tr><tr><td>SALVP2BG2GH089484</td><td>0.0</td><td>4168.93</td><td>0.0</td><td>0.0</td></tr><tr><td>SALCR2BG7HH638082</td><td>0.0</td><td>1263.45</td><td>0.0</td><td>0.0</td></tr><tr><td>SALGS2KF0GA289366</td><td>0.0</td><td>1561.54</td><td>0.0</td><td>0.0</td></tr><tr><td>SALVP2BG6GH080058</td><td>0.0</td><td>4604.11</td><td>0.0</td><td>0.0</td></tr><tr><td>SAJAL4BV9HA950117</td><td>0.0</td><td>5047.71</td><td>0.0</td><td>0.0</td></tr><tr><td>SALVP2BG4GH147014</td><td>0.0</td><td>4708.23</td><td>0.0</td><td>0.0</td></tr></table></div>\n",
       "    <br />(rows: 50991, time: 5.8s,     3MB processed, job: job_NG4NO0tQmuIjVxrPzoeBEdn6YGc)<br />\n",
       "    <script>\n",
       "\n",
       "      require.config({\n",
       "        paths: {\n",
       "          d3: '//cdnjs.cloudflare.com/ajax/libs/d3/3.4.13/d3',\n",
       "          plotly: 'https://cdn.plot.ly/plotly-1.5.1.min.js?noext',\n",
       "          jquery: '//ajax.googleapis.com/ajax/libs/jquery/2.0.0/jquery.min'\n",
       "        },\n",
       "        map: {\n",
       "          '*': {\n",
       "            datalab: 'nbextensions/gcpdatalab'\n",
       "          }\n",
       "        },\n",
       "        shim: {\n",
       "          plotly: {\n",
       "            deps: ['d3', 'jquery'],\n",
       "            exports: 'plotly'\n",
       "          }\n",
       "        }\n",
       "      });\n",
       "\n",
       "      require(['datalab/charting', 'datalab/element!2_149310995741', 'base/js/events',\n",
       "          'datalab/style!/nbextensions/gcpdatalab/charting.css'],\n",
       "        function(charts, dom, events) {\n",
       "          charts.render('gcharts', dom, events, 'paged_table', [], {\"rows\": [{\"c\": [{\"v\": \"SALGS2KF0GA305629\"}, {\"v\": 0.0}, {\"v\": 3603.08}, {\"v\": 0.0}, {\"v\": 0.0}]}, {\"c\": [{\"v\": \"SAJAR4BG6HA965089\"}, {\"v\": 0.0}, {\"v\": 2551.43}, {\"v\": 0.0}, {\"v\": 0.0}]}, {\"c\": [{\"v\": \"SALCR2BG9GH625400\"}, {\"v\": 0.0}, {\"v\": 3716.24}, {\"v\": 0.0}, {\"v\": 0.0}]}, {\"c\": [{\"v\": \"SALVP2BG0GH081996\"}, {\"v\": 0.0}, {\"v\": 4404.76}, {\"v\": 0.0}, {\"v\": 0.0}]}, {\"c\": [{\"v\": \"SALVP2BG9GH117877\"}, {\"v\": 0.0}, {\"v\": 5162.95}, {\"v\": 0.0}, {\"v\": 0.0}]}, {\"c\": [{\"v\": \"SALGS2PF0GA314792\"}, {\"v\": 0.0}, {\"v\": 7298.4}, {\"v\": 0.0}, {\"v\": 0.0}]}, {\"c\": [{\"v\": \"SALCR2BG8HH646823\"}, {\"v\": 0.0}, {\"v\": 1095.99}, {\"v\": 0.0}, {\"v\": 0.0}]}, {\"c\": [{\"v\": \"SALVD2BG5HH169159\"}, {\"v\": 0.0}, {\"v\": 6346.88}, {\"v\": 0.0}, {\"v\": 0.0}]}, {\"c\": [{\"v\": \"SAJAD4BG9HA958250\"}, {\"v\": 0.0}, {\"v\": 4016.62}, {\"v\": 0.0}, {\"v\": 0.0}]}, {\"c\": [{\"v\": \"SAJWA6BC1F8K10944\"}, {\"v\": 0.0}, {\"v\": 11673.23}, {\"v\": 0.0}, {\"v\": 0.0}]}, {\"c\": [{\"v\": \"SALVP2BG5GH110733\"}, {\"v\": 0.0}, {\"v\": 5331.23}, {\"v\": 0.0}, {\"v\": 0.0}]}, {\"c\": [{\"v\": \"SAJAD4BV7HA970198\"}, {\"v\": 0.0}, {\"v\": 3519.51}, {\"v\": 0.0}, {\"v\": 0.0}]}, {\"c\": [{\"v\": \"SALVP2BGXGH087708\"}, {\"v\": 0.0}, {\"v\": 5188.75}, {\"v\": 0.0}, {\"v\": 0.0}]}, {\"c\": [{\"v\": \"SALCP2BG8GH574526\"}, {\"v\": 0.0}, {\"v\": 2131.5299999999997}, {\"v\": 0.0}, {\"v\": 0.0}]}, {\"c\": [{\"v\": \"SALWG2PF5GA658888\"}, {\"v\": 0.0}, {\"v\": 974.51}, {\"v\": 0.0}, {\"v\": 0.0}]}, {\"c\": [{\"v\": \"SAJWA6AT9G8K28918\"}, {\"v\": 0.0}, {\"v\": 2648.95}, {\"v\": 0.0}, {\"v\": 0.0}]}, {\"c\": [{\"v\": \"SAJWA6ET1G8K34450\"}, {\"v\": 0.0}, {\"v\": 6464.95}, {\"v\": 0.0}, {\"v\": 0.0}]}, {\"c\": [{\"v\": \"SALVP2BG0GH150024\"}, {\"v\": 0.0}, {\"v\": 5190.92}, {\"v\": 0.0}, {\"v\": 0.0}]}, {\"c\": [{\"v\": \"SALCR2BG1HH645352\"}, {\"v\": 0.0}, {\"v\": 1163.45}, {\"v\": 0.0}, {\"v\": 0.0}]}, {\"c\": [{\"v\": \"SALVP2BG2GH089484\"}, {\"v\": 0.0}, {\"v\": 4168.93}, {\"v\": 0.0}, {\"v\": 0.0}]}, {\"c\": [{\"v\": \"SALCR2BG7HH638082\"}, {\"v\": 0.0}, {\"v\": 1263.45}, {\"v\": 0.0}, {\"v\": 0.0}]}, {\"c\": [{\"v\": \"SALGS2KF0GA289366\"}, {\"v\": 0.0}, {\"v\": 1561.54}, {\"v\": 0.0}, {\"v\": 0.0}]}, {\"c\": [{\"v\": \"SALVP2BG6GH080058\"}, {\"v\": 0.0}, {\"v\": 4604.11}, {\"v\": 0.0}, {\"v\": 0.0}]}, {\"c\": [{\"v\": \"SAJAL4BV9HA950117\"}, {\"v\": 0.0}, {\"v\": 5047.71}, {\"v\": 0.0}, {\"v\": 0.0}]}, {\"c\": [{\"v\": \"SALVP2BG4GH147014\"}, {\"v\": 0.0}, {\"v\": 4708.23}, {\"v\": 0.0}, {\"v\": 0.0}]}], \"cols\": [{\"type\": \"string\", \"id\": \"VIN\", \"label\": \"VIN\"}, {\"type\": \"number\", \"id\": \"Chase_APR_Rate\", \"label\": \"Chase_APR_Rate\"}, {\"type\": \"number\", \"id\": \"Chase_Lease_Rate\", \"label\": \"Chase_Lease_Rate\"}, {\"type\": \"number\", \"id\": \"Chase_RV\", \"label\": \"Chase_RV\"}, {\"type\": \"number\", \"id\": \"Chase_Pull_Ahead\", \"label\": \"Chase_Pull_Ahead\"}]},\n",
       "            {\n",
       "              pageSize: 25,\n",
       "              cssClassNames:  {\n",
       "                tableRow: 'gchart-table-row',\n",
       "                headerRow: 'gchart-table-headerrow',\n",
       "                oddTableRow: 'gchart-table-oddrow',\n",
       "                selectedTableRow: 'gchart-table-selectedrow',\n",
       "                hoverTableRow: 'gchart-table-hoverrow',\n",
       "                tableCell: 'gchart-table-cell',\n",
       "                headerCell: 'gchart-table-headercell',\n",
       "                rowNumberCell: 'gchart-table-rownumcell'\n",
       "              }\n",
       "            },\n",
       "            {source_index: 1, fields: 'VIN,Chase_APR_Rate,Chase_Lease_Rate,Chase_RV,Chase_Pull_Ahead'},\n",
       "            0,\n",
       "            50991);\n",
       "        }\n",
       "      );\n",
       "    </script>\n",
       "  "
      ],
      "text/plain": [
       "QueryResultsTable job_NG4NO0tQmuIjVxrPzoeBEdn6YGc"
      ]
     },
     "execution_count": 202,
     "metadata": {},
     "output_type": "execute_result"
    }
   ],
   "source": [
    "%bq execute -q chase_transpose_data -t , --table US_Analytics.FACT_eSMART_Chase_Transformed --mode='overwrite'"
   ]
  },
  {
   "cell_type": "markdown",
   "metadata": {},
   "source": [
    "## Vehicle standard costs -  reload the latest base and options derivative costs to big query tables"
   ]
  },
  {
   "cell_type": "markdown",
   "metadata": {},
   "source": [
    "### Base costs - define the vehicle base standard schema to reload data to"
   ]
  },
  {
   "cell_type": "code",
   "execution_count": 207,
   "metadata": {
    "collapsed": true
   },
   "outputs": [],
   "source": [
    "# Step 1 - Collect the latest standard base costs from the markets  \n",
    "# Step 2 - Upload the file into Z:/Analytics/Vin Profitability/Vehicle Standard Costs/\n",
    "# Step 3 - Upload the file in Google data storage bucket sap_data/Vin_Profitability/ \n",
    "\n",
    "\n",
    "Base_Cost_schema = bq.Schema([\n",
    "{'name':'Derivative','type':'STRING'},#Derivative\n",
    "{'name':'Date_From','type':'STRING'},#Date From\n",
    "{'name':'Date_To','type':'STRING'},#Date To    \n",
    "{'name':'Base_Material_Cost','type':'FLOAT'},#Base Costs\n",
    "])"
   ]
  },
  {
   "cell_type": "code",
   "execution_count": 208,
   "metadata": {
    "collapsed": false
   },
   "outputs": [],
   "source": [
    "# Define the table to OVERWRITE\n",
    "Load_Base_Costs = bq.Table('US_Analytics.FACT_eSMART_Base_Costs' ).create(schema = Base_Cost_schema, overwrite = True)"
   ]
  },
  {
   "cell_type": "code",
   "execution_count": 210,
   "metadata": {
    "collapsed": false
   },
   "outputs": [
    {
     "data": {
      "text/plain": [
       "Job jlr-dl-dev/job_wqMeIul99aP0rW5T57l5cu9VLUQ completed"
      ]
     },
     "execution_count": 210,
     "metadata": {},
     "output_type": "execute_result"
    }
   ],
   "source": [
    "# Load the Base Vehicle Cost CSV file into big query FACT_eSMART_Base_Costs table \n",
    "Load_Base_Costs.load('gs://sap_data/Vin_Profitability/Vehicle_Costs/eSMART VEHICLE  Costs - US Base Costs.csv', mode='overwrite',\n",
    "                  source_format = 'csv', csv_options=bq.CSVOptions(delimiter=u',',skip_leading_rows=1))"
   ]
  },
  {
   "cell_type": "markdown",
   "metadata": {},
   "source": [
    "### Options costs - define the vehicle options standard schema to reload data to"
   ]
  },
  {
   "cell_type": "code",
   "execution_count": 211,
   "metadata": {
    "collapsed": true
   },
   "outputs": [],
   "source": [
    "# Step 1 - Collect the latest standard option costs from the markets  \n",
    "# Step 2 - Upload the file into Z:/Analytics/Vin Profitability/Vehicle Standard Costs/\n",
    "# Step 3 - Upload the file in Google data storage bucket sap_data/Vin_Profitability/  \n",
    "\n",
    "Options_Cost_schema = bq.Schema([\n",
    "{'name':'Derivative','type':'STRING'},#Derivative\n",
    "{'name':'Date_From','type':'STRING'},#Date From\n",
    "{'name':'Date_To','type':'STRING'},#Date To    \n",
    "{'name':'Options_Material_Cost','type':'FLOAT'},#Options Costs\n",
    "])"
   ]
  },
  {
   "cell_type": "code",
   "execution_count": 212,
   "metadata": {
    "collapsed": true
   },
   "outputs": [],
   "source": [
    "# Define the table to OVERWRITE\n",
    "Load_Options_Costs = bq.Table('US_Analytics.FACT_eSMART_Options_Costs' ).create(schema = Options_Cost_schema, overwrite = True)"
   ]
  },
  {
   "cell_type": "code",
   "execution_count": 213,
   "metadata": {
    "collapsed": false
   },
   "outputs": [
    {
     "data": {
      "text/plain": [
       "Job jlr-dl-dev/job_oEoAZFuWT2pdslVuyCafyrbNap8 completed"
      ]
     },
     "execution_count": 213,
     "metadata": {},
     "output_type": "execute_result"
    }
   ],
   "source": [
    "# Load the Base Vehicle Cost CSV file into big query FACT_eSMART_Base_Costs table \n",
    "Load_Options_Costs.load('gs://sap_data/Vin_Profitability/Vehicle_Costs/eSMART VEHICLE  Costs - US Options Costs.csv', mode='overwrite',\n",
    "                  source_format = 'csv', csv_options=bq.CSVOptions(delimiter=u',',skip_leading_rows=1))"
   ]
  },
  {
   "cell_type": "markdown",
   "metadata": {},
   "source": [
    "# Central freight and warranty costs -  reload the central standard costs"
   ]
  },
  {
   "cell_type": "markdown",
   "metadata": {},
   "source": [
    "### Freight costs - define the freight central standard schema to reload data"
   ]
  },
  {
   "cell_type": "code",
   "execution_count": 219,
   "metadata": {
    "collapsed": true
   },
   "outputs": [],
   "source": [
    "# Step 1 - Collect the latest freight costs from the markets  \n",
    "# Step 2 - Upload the file into Z:/Analytics/Vin Profitability/Freight Central Costs\n",
    "# Step 3 - Upload the file in Google data storage bucket sap_data/Vin_Profitability/ \n",
    "Freight_Cost_schema = bq.Schema([\n",
    "{'name':'Model','type':'STRING'},#Model\n",
    "{'name':'Date_From','type':'STRING'},#Date From   \n",
    "{'name':'Date_To','type':'STRING'},#Date To       \n",
    "{'name':'Fiscal_Year','type':'STRING'},#Year\n",
    "{'name':'Freight_Costs','type':'FLOAT'},#Freight Costs\n",
    "])"
   ]
  },
  {
   "cell_type": "code",
   "execution_count": 220,
   "metadata": {
    "collapsed": true
   },
   "outputs": [],
   "source": [
    "# Define the table to OVERWRITE\n",
    "Load_Freight_Costs = bq.Table('US_Analytics.FACT_eSMART_Freight_Central_Costs_Raw' ).create(schema = Freight_Cost_schema, overwrite = True)"
   ]
  },
  {
   "cell_type": "code",
   "execution_count": 221,
   "metadata": {
    "collapsed": false
   },
   "outputs": [
    {
     "data": {
      "text/plain": [
       "Job jlr-dl-dev/job_00vSP-MwhaGBUwFF_pNp6hujyKg completed"
      ]
     },
     "execution_count": 221,
     "metadata": {},
     "output_type": "execute_result"
    }
   ],
   "source": [
    "# Load the Freight Central Cost CSV file into big query FACT_eSMART_Freight_Central_Costs table \n",
    "Load_Freight_Costs.load('gs://sap_data/Vin_Profitability/Freight_Central/eSMART Vehicle  Costs - Freight_Central_Costs.csv', mode='overwrite',\n",
    "                  source_format = 'csv', csv_options=bq.CSVOptions(delimiter=u',',skip_leading_rows=1))"
   ]
  },
  {
   "cell_type": "markdown",
   "metadata": {},
   "source": [
    "### Summarize the Freight Central data"
   ]
  },
  {
   "cell_type": "code",
   "execution_count": 222,
   "metadata": {
    "collapsed": true
   },
   "outputs": [],
   "source": [
    "%%bq query -n Freight_summarize_data \n",
    "SELECT * FROM `US_Analytics.HLP_Freight_Central_eSMART_Standard`"
   ]
  },
  {
   "cell_type": "code",
   "execution_count": 223,
   "metadata": {
    "collapsed": false
   },
   "outputs": [
    {
     "data": {
      "text/html": [
       "\n",
       "    <div class=\"bqtv\" id=\"4_149312565490\"><table><tr><th>Model</th><th>Fiscal_Year</th><th>Freight_Costs</th></tr><tr><td>R3</td><td>2017</td><td>-2004.0</td></tr><tr><td>R8</td><td>2017</td><td>-1761.0</td></tr><tr><td>H2</td><td>2016</td><td>-1923.0</td></tr><tr><td>CV</td><td>2016</td><td>-2322.0</td></tr><tr><td>W5</td><td>2016</td><td>-2035.0</td></tr><tr><td>G2</td><td>2017</td><td>-1952.0</td></tr><tr><td>Y4</td><td>2017</td><td>-1879.0</td></tr><tr><td>V3</td><td>2016</td><td>-2322.0</td></tr><tr><td>X7</td><td>2016</td><td>-1726.0</td></tr><tr><td>CV</td><td>2017</td><td>-2792.0</td></tr><tr><td>Y4</td><td>2016</td><td>-1879.0</td></tr><tr><td>X2</td><td>2016</td><td>-1503.0</td></tr><tr><td>M1</td><td>2016</td><td>-1666.0</td></tr><tr><td>N1</td><td>2016</td><td>-1406.0</td></tr><tr><td>V3</td><td>2017</td><td>-2792.0</td></tr><tr><td>H1</td><td>2016</td><td>-2273.0</td></tr><tr><td>X1</td><td>2017</td><td>-1503.0</td></tr><tr><td>U2</td><td>2016</td><td>-1594.0</td></tr><tr><td>Z3</td><td>2016</td><td>-1790.0</td></tr><tr><td>T1</td><td>2016</td><td>-2004.0</td></tr><tr><td>R3</td><td>2016</td><td>-2161.0</td></tr><tr><td>CJ</td><td>2016</td><td>-2142.0</td></tr><tr><td>T1</td><td>2017</td><td>-2004.0</td></tr><tr><td>N1</td><td>2017</td><td>-1406.0</td></tr><tr><td>W5</td><td>2017</td><td>-1796.0</td></tr></table></div>\n",
       "    <br />(rows: 38, time: 3.5s,   684B processed, job: job_-fe2meD4XN_W4lzmhJpSqya6yoM)<br />\n",
       "    <script>\n",
       "\n",
       "      require.config({\n",
       "        paths: {\n",
       "          d3: '//cdnjs.cloudflare.com/ajax/libs/d3/3.4.13/d3',\n",
       "          plotly: 'https://cdn.plot.ly/plotly-1.5.1.min.js?noext',\n",
       "          jquery: '//ajax.googleapis.com/ajax/libs/jquery/2.0.0/jquery.min'\n",
       "        },\n",
       "        map: {\n",
       "          '*': {\n",
       "            datalab: 'nbextensions/gcpdatalab'\n",
       "          }\n",
       "        },\n",
       "        shim: {\n",
       "          plotly: {\n",
       "            deps: ['d3', 'jquery'],\n",
       "            exports: 'plotly'\n",
       "          }\n",
       "        }\n",
       "      });\n",
       "\n",
       "      require(['datalab/charting', 'datalab/element!4_149312565490', 'base/js/events',\n",
       "          'datalab/style!/nbextensions/gcpdatalab/charting.css'],\n",
       "        function(charts, dom, events) {\n",
       "          charts.render('gcharts', dom, events, 'paged_table', [], {\"rows\": [{\"c\": [{\"v\": \"R3\"}, {\"v\": \"2017\"}, {\"v\": -2004.0}]}, {\"c\": [{\"v\": \"R8\"}, {\"v\": \"2017\"}, {\"v\": -1761.0}]}, {\"c\": [{\"v\": \"H2\"}, {\"v\": \"2016\"}, {\"v\": -1923.0}]}, {\"c\": [{\"v\": \"CV\"}, {\"v\": \"2016\"}, {\"v\": -2322.0}]}, {\"c\": [{\"v\": \"W5\"}, {\"v\": \"2016\"}, {\"v\": -2035.0}]}, {\"c\": [{\"v\": \"G2\"}, {\"v\": \"2017\"}, {\"v\": -1952.0}]}, {\"c\": [{\"v\": \"Y4\"}, {\"v\": \"2017\"}, {\"v\": -1879.0}]}, {\"c\": [{\"v\": \"V3\"}, {\"v\": \"2016\"}, {\"v\": -2322.0}]}, {\"c\": [{\"v\": \"X7\"}, {\"v\": \"2016\"}, {\"v\": -1726.0}]}, {\"c\": [{\"v\": \"CV\"}, {\"v\": \"2017\"}, {\"v\": -2792.0}]}, {\"c\": [{\"v\": \"Y4\"}, {\"v\": \"2016\"}, {\"v\": -1879.0}]}, {\"c\": [{\"v\": \"X2\"}, {\"v\": \"2016\"}, {\"v\": -1503.0}]}, {\"c\": [{\"v\": \"M1\"}, {\"v\": \"2016\"}, {\"v\": -1666.0}]}, {\"c\": [{\"v\": \"N1\"}, {\"v\": \"2016\"}, {\"v\": -1406.0}]}, {\"c\": [{\"v\": \"V3\"}, {\"v\": \"2017\"}, {\"v\": -2792.0}]}, {\"c\": [{\"v\": \"H1\"}, {\"v\": \"2016\"}, {\"v\": -2273.0}]}, {\"c\": [{\"v\": \"X1\"}, {\"v\": \"2017\"}, {\"v\": -1503.0}]}, {\"c\": [{\"v\": \"U2\"}, {\"v\": \"2016\"}, {\"v\": -1594.0}]}, {\"c\": [{\"v\": \"Z3\"}, {\"v\": \"2016\"}, {\"v\": -1790.0}]}, {\"c\": [{\"v\": \"T1\"}, {\"v\": \"2016\"}, {\"v\": -2004.0}]}, {\"c\": [{\"v\": \"R3\"}, {\"v\": \"2016\"}, {\"v\": -2161.0}]}, {\"c\": [{\"v\": \"CJ\"}, {\"v\": \"2016\"}, {\"v\": -2142.0}]}, {\"c\": [{\"v\": \"T1\"}, {\"v\": \"2017\"}, {\"v\": -2004.0}]}, {\"c\": [{\"v\": \"N1\"}, {\"v\": \"2017\"}, {\"v\": -1406.0}]}, {\"c\": [{\"v\": \"W5\"}, {\"v\": \"2017\"}, {\"v\": -1796.0}]}], \"cols\": [{\"type\": \"string\", \"id\": \"Model\", \"label\": \"Model\"}, {\"type\": \"string\", \"id\": \"Fiscal_Year\", \"label\": \"Fiscal_Year\"}, {\"type\": \"number\", \"id\": \"Freight_Costs\", \"label\": \"Freight_Costs\"}]},\n",
       "            {\n",
       "              pageSize: 25,\n",
       "              cssClassNames:  {\n",
       "                tableRow: 'gchart-table-row',\n",
       "                headerRow: 'gchart-table-headerrow',\n",
       "                oddTableRow: 'gchart-table-oddrow',\n",
       "                selectedTableRow: 'gchart-table-selectedrow',\n",
       "                hoverTableRow: 'gchart-table-hoverrow',\n",
       "                tableCell: 'gchart-table-cell',\n",
       "                headerCell: 'gchart-table-headercell',\n",
       "                rowNumberCell: 'gchart-table-rownumcell'\n",
       "              }\n",
       "            },\n",
       "            {source_index: 3, fields: 'Model,Fiscal_Year,Freight_Costs'},\n",
       "            0,\n",
       "            38);\n",
       "        }\n",
       "      );\n",
       "    </script>\n",
       "  "
      ],
      "text/plain": [
       "QueryResultsTable job_-fe2meD4XN_W4lzmhJpSqya6yoM"
      ]
     },
     "execution_count": 223,
     "metadata": {},
     "output_type": "execute_result"
    }
   ],
   "source": [
    "%bq execute -q Freight_summarize_data -t , --table US_Analytics.FACT_eSMART_Freight_Central_Costs --mode='overwrite'"
   ]
  },
  {
   "cell_type": "markdown",
   "metadata": {},
   "source": [
    "### Warranty costs - define the central standard schema to reload data"
   ]
  },
  {
   "cell_type": "code",
   "execution_count": 226,
   "metadata": {
    "collapsed": true
   },
   "outputs": [],
   "source": [
    "# Step 1 - Collect the latest warranty costs from the markets  \n",
    "# Step 2 - Upload the file into Z:/Analytics/Vin Profitability/Warranty Central Costs\n",
    "# Step 3 - Upload the file in Google data storage bucket sap_data/Vin_Profitability/ \n",
    "\n",
    "Warranty_Cost_schema = bq.Schema([\n",
    "{'name':'Model','type':'STRING'},#Model\n",
    "{'name':'Date_From','type':'STRING'},#Date From   \n",
    "{'name':'Date_To','type':'STRING'},#Date To       \n",
    "{'name':'Fiscal_Year','type':'STRING'},#Year\n",
    "{'name':'Warranty_Costs','type':'FLOAT'},#Warranty Costs\n",
    "])"
   ]
  },
  {
   "cell_type": "code",
   "execution_count": 227,
   "metadata": {
    "collapsed": true
   },
   "outputs": [],
   "source": [
    "# Define the table to OVERWRITE\n",
    "Load_Warranty_Costs = bq.Table('US_Analytics.FACT_eSMART_Warranty_Central_Costs_Raw' ).create(schema = Warranty_Cost_schema, overwrite = True)"
   ]
  },
  {
   "cell_type": "code",
   "execution_count": 229,
   "metadata": {
    "collapsed": false
   },
   "outputs": [
    {
     "data": {
      "text/plain": [
       "Job jlr-dl-dev/job_Br5aW_OH0yWWDNgVOoeBf5wAcDU completed"
      ]
     },
     "execution_count": 229,
     "metadata": {},
     "output_type": "execute_result"
    }
   ],
   "source": [
    "# Load the Warranty Central Cost CSV file into big query FACT_eSMART_Warranty_Central_Costs table \n",
    "Load_Warranty_Costs.load('gs://sap_data/Vin_Profitability/Warranty_Central/eSMART Vehicle  Costs   - Warraty_Central_Costs.csv', mode='overwrite',\n",
    "                  source_format = 'csv', csv_options=bq.CSVOptions(delimiter=u',',skip_leading_rows=1))"
   ]
  },
  {
   "cell_type": "markdown",
   "metadata": {},
   "source": [
    "### Summarize the Warranty Central data"
   ]
  },
  {
   "cell_type": "code",
   "execution_count": 230,
   "metadata": {
    "collapsed": true
   },
   "outputs": [],
   "source": [
    "%%bq query -n Warranty_summarize_data \n",
    "SELECT * FROM `US_Analytics.HLP_Warranty_Central_eSMART_Standard`"
   ]
  },
  {
   "cell_type": "code",
   "execution_count": 231,
   "metadata": {
    "collapsed": false
   },
   "outputs": [
    {
     "data": {
      "text/html": [
       "\n",
       "    <div class=\"bqtv\" id=\"5_149312657865\"><table><tr><th>Model</th><th>Fiscal_Year</th><th>Warranty_Costs</th></tr><tr><td>Y4</td><td>2016</td><td>-3376.0</td></tr><tr><td>X2</td><td>2016</td><td>-1971.0</td></tr><tr><td>G2</td><td>2017</td><td>-1691.0</td></tr><tr><td>X1</td><td>2016</td><td>-1982.0</td></tr><tr><td>M1</td><td>2017</td><td>-1988.0</td></tr><tr><td>H2</td><td>2016</td><td>-1771.0</td></tr><tr><td>CJ</td><td>2016</td><td>-4205.0</td></tr><tr><td>T1</td><td>2017</td><td>-2430.0</td></tr><tr><td>X7</td><td>2017</td><td>-2285.0</td></tr><tr><td>N1</td><td>2016</td><td>-961.0</td></tr><tr><td>V3</td><td>2017</td><td>-2274.0</td></tr><tr><td>Y4</td><td>2017</td><td>-3376.0</td></tr><tr><td>H1</td><td>2017</td><td>-1771.0</td></tr><tr><td>N1</td><td>2017</td><td>-961.0</td></tr><tr><td>T1</td><td>2016</td><td>-2430.0</td></tr><tr><td>R3</td><td>2016</td><td>-2577.0</td></tr><tr><td>G1</td><td>2016</td><td>-1418.0</td></tr><tr><td>CJ</td><td>2017</td><td>-3376.0</td></tr><tr><td>X7</td><td>2016</td><td>-2285.0</td></tr><tr><td>CV</td><td>2017</td><td>-2274.0</td></tr><tr><td>H2</td><td>2017</td><td>-1771.0</td></tr><tr><td>Z3</td><td>2017</td><td>-3202.0</td></tr><tr><td>W5</td><td>2017</td><td>-2201.0</td></tr><tr><td>G1</td><td>2017</td><td>-1568.0</td></tr><tr><td>H1</td><td>2016</td><td>-1583.0</td></tr></table></div>\n",
       "    <br />(rows: 38, time: 5.7s,   684B processed, job: job_xKBuH0HzZpLsI2I2Canhvl-rb0g)<br />\n",
       "    <script>\n",
       "\n",
       "      require.config({\n",
       "        paths: {\n",
       "          d3: '//cdnjs.cloudflare.com/ajax/libs/d3/3.4.13/d3',\n",
       "          plotly: 'https://cdn.plot.ly/plotly-1.5.1.min.js?noext',\n",
       "          jquery: '//ajax.googleapis.com/ajax/libs/jquery/2.0.0/jquery.min'\n",
       "        },\n",
       "        map: {\n",
       "          '*': {\n",
       "            datalab: 'nbextensions/gcpdatalab'\n",
       "          }\n",
       "        },\n",
       "        shim: {\n",
       "          plotly: {\n",
       "            deps: ['d3', 'jquery'],\n",
       "            exports: 'plotly'\n",
       "          }\n",
       "        }\n",
       "      });\n",
       "\n",
       "      require(['datalab/charting', 'datalab/element!5_149312657865', 'base/js/events',\n",
       "          'datalab/style!/nbextensions/gcpdatalab/charting.css'],\n",
       "        function(charts, dom, events) {\n",
       "          charts.render('gcharts', dom, events, 'paged_table', [], {\"rows\": [{\"c\": [{\"v\": \"Y4\"}, {\"v\": \"2016\"}, {\"v\": -3376.0}]}, {\"c\": [{\"v\": \"X2\"}, {\"v\": \"2016\"}, {\"v\": -1971.0}]}, {\"c\": [{\"v\": \"G2\"}, {\"v\": \"2017\"}, {\"v\": -1691.0}]}, {\"c\": [{\"v\": \"X1\"}, {\"v\": \"2016\"}, {\"v\": -1982.0}]}, {\"c\": [{\"v\": \"M1\"}, {\"v\": \"2017\"}, {\"v\": -1988.0}]}, {\"c\": [{\"v\": \"H2\"}, {\"v\": \"2016\"}, {\"v\": -1771.0}]}, {\"c\": [{\"v\": \"CJ\"}, {\"v\": \"2016\"}, {\"v\": -4205.0}]}, {\"c\": [{\"v\": \"T1\"}, {\"v\": \"2017\"}, {\"v\": -2430.0}]}, {\"c\": [{\"v\": \"X7\"}, {\"v\": \"2017\"}, {\"v\": -2285.0}]}, {\"c\": [{\"v\": \"N1\"}, {\"v\": \"2016\"}, {\"v\": -961.0}]}, {\"c\": [{\"v\": \"V3\"}, {\"v\": \"2017\"}, {\"v\": -2274.0}]}, {\"c\": [{\"v\": \"Y4\"}, {\"v\": \"2017\"}, {\"v\": -3376.0}]}, {\"c\": [{\"v\": \"H1\"}, {\"v\": \"2017\"}, {\"v\": -1771.0}]}, {\"c\": [{\"v\": \"N1\"}, {\"v\": \"2017\"}, {\"v\": -961.0}]}, {\"c\": [{\"v\": \"T1\"}, {\"v\": \"2016\"}, {\"v\": -2430.0}]}, {\"c\": [{\"v\": \"R3\"}, {\"v\": \"2016\"}, {\"v\": -2577.0}]}, {\"c\": [{\"v\": \"G1\"}, {\"v\": \"2016\"}, {\"v\": -1418.0}]}, {\"c\": [{\"v\": \"CJ\"}, {\"v\": \"2017\"}, {\"v\": -3376.0}]}, {\"c\": [{\"v\": \"X7\"}, {\"v\": \"2016\"}, {\"v\": -2285.0}]}, {\"c\": [{\"v\": \"CV\"}, {\"v\": \"2017\"}, {\"v\": -2274.0}]}, {\"c\": [{\"v\": \"H2\"}, {\"v\": \"2017\"}, {\"v\": -1771.0}]}, {\"c\": [{\"v\": \"Z3\"}, {\"v\": \"2017\"}, {\"v\": -3202.0}]}, {\"c\": [{\"v\": \"W5\"}, {\"v\": \"2017\"}, {\"v\": -2201.0}]}, {\"c\": [{\"v\": \"G1\"}, {\"v\": \"2017\"}, {\"v\": -1568.0}]}, {\"c\": [{\"v\": \"H1\"}, {\"v\": \"2016\"}, {\"v\": -1583.0}]}], \"cols\": [{\"type\": \"string\", \"id\": \"Model\", \"label\": \"Model\"}, {\"type\": \"string\", \"id\": \"Fiscal_Year\", \"label\": \"Fiscal_Year\"}, {\"type\": \"number\", \"id\": \"Warranty_Costs\", \"label\": \"Warranty_Costs\"}]},\n",
       "            {\n",
       "              pageSize: 25,\n",
       "              cssClassNames:  {\n",
       "                tableRow: 'gchart-table-row',\n",
       "                headerRow: 'gchart-table-headerrow',\n",
       "                oddTableRow: 'gchart-table-oddrow',\n",
       "                selectedTableRow: 'gchart-table-selectedrow',\n",
       "                hoverTableRow: 'gchart-table-hoverrow',\n",
       "                tableCell: 'gchart-table-cell',\n",
       "                headerCell: 'gchart-table-headercell',\n",
       "                rowNumberCell: 'gchart-table-rownumcell'\n",
       "              }\n",
       "            },\n",
       "            {source_index: 4, fields: 'Model,Fiscal_Year,Warranty_Costs'},\n",
       "            0,\n",
       "            38);\n",
       "        }\n",
       "      );\n",
       "    </script>\n",
       "  "
      ],
      "text/plain": [
       "QueryResultsTable job_xKBuH0HzZpLsI2I2Canhvl-rb0g"
      ]
     },
     "execution_count": 231,
     "metadata": {},
     "output_type": "execute_result"
    }
   ],
   "source": [
    "%bq execute -q Warranty_summarize_data -t , --table US_Analytics.FACT_eSMART_Warranty_Central_Costs --mode='overwrite'"
   ]
  },
  {
   "cell_type": "markdown",
   "metadata": {},
   "source": [
    "## Retail Sales  - Last retail date  and original dealer -> full reload from January 2015"
   ]
  },
  {
   "cell_type": "markdown",
   "metadata": {},
   "source": [
    " Smith, Brian <bsmith3@jaguarlandrover.com will provide data"
   ]
  },
  {
   "cell_type": "markdown",
   "metadata": {},
   "source": [
    "### Retail Data  - define the retail raw data schema to reload data"
   ]
  },
  {
   "cell_type": "code",
   "execution_count": 232,
   "metadata": {
    "collapsed": true
   },
   "outputs": [],
   "source": [
    "# Step 1 - Collect the latest retail from the markets  \n",
    "# Step 2 - Upload the file into Z:/Analytics/Vin Profitability/Retail Data\n",
    "# Step 3 - Upload the file in Google data storage bucket sap_data/Vin_Profitability/ \n",
    "\n",
    "\n",
    "Retail_schema = bq.Schema([\n",
    "{'name':'VIN','type':'STRING'},#Model\n",
    "{'name':'Retail_Sales','type':'INTEGER'},#Date From   \n",
    "{'name':'Date','type':'STRING'},#Date To       \n",
    "{'name':'Dealer','type':'STRING'},#Year\n",
    "])"
   ]
  },
  {
   "cell_type": "code",
   "execution_count": 236,
   "metadata": {
    "collapsed": true
   },
   "outputs": [],
   "source": [
    "# Define the table to OVERWRITE\n",
    "Load_Retail_Sales = bq.Table('US_Analytics.FACT_eSMART_US_Retail_Sales_Raw' ).create(schema = Retail_schema, overwrite = True)"
   ]
  },
  {
   "cell_type": "code",
   "execution_count": 237,
   "metadata": {
    "collapsed": false
   },
   "outputs": [
    {
     "data": {
      "text/plain": [
       "Job jlr-dl-dev/job_1G8vUi57QX7OkTAqkD9wykDn2Ao completed"
      ]
     },
     "execution_count": 237,
     "metadata": {},
     "output_type": "execute_result"
    }
   ],
   "source": [
    "# Load the Retail Cost CSV file into big query FACT_eSMART_Retail_Sales_Raw\n",
    "Load_Retail_Sales.load('gs://sap_data/Vin_Profitability/Retail_Sales/eSMART USA Retail Sales Data.csv', mode='overwrite',\n",
    "                  source_format = 'csv', csv_options=bq.CSVOptions(delimiter=u',',skip_leading_rows=1))"
   ]
  },
  {
   "cell_type": "markdown",
   "metadata": {},
   "source": [
    "### Summarize the Retail Sales data"
   ]
  },
  {
   "cell_type": "code",
   "execution_count": 241,
   "metadata": {
    "collapsed": true
   },
   "outputs": [],
   "source": [
    "%%bq query -n Retail_summarize_data \n",
    "SELECT * FROM `US_Analytics.HLP_Retail_Sales_eSMART_Standard`"
   ]
  },
  {
   "cell_type": "code",
   "execution_count": 242,
   "metadata": {
    "collapsed": false
   },
   "outputs": [
    {
     "data": {
      "text/html": [
       "\n",
       "    <div class=\"bqtv\" id=\"7_149313341197\"><table><tr><th>VIN</th><th>Retail_Qty</th><th>Retail_Date</th><th>Partner</th></tr><tr><td>SAJBE4BV1GCY09625</td><td>1</td><td>01/03/2016</td><td>J00517</td></tr><tr><td>SAJWA6BU2G8K32588</td><td>1</td><td>01/03/2016</td><td>J00517</td></tr><tr><td>SAJWJ6DL4GMK30384</td><td>1</td><td>01/03/2016</td><td>J00517</td></tr><tr><td>SAJWA2G73G8V95462</td><td>1</td><td>01/03/2016</td><td>J05537</td></tr><tr><td>SAJWA2G77G8V90961</td><td>1</td><td>01/03/2016</td><td>J05577</td></tr><tr><td>SALVP2BG4GH089079</td><td>1</td><td>01/03/2016</td><td>R00121</td></tr><tr><td>SALGS2VF7GA273595</td><td>1</td><td>01/03/2016</td><td>R00175</td></tr><tr><td>SALGS2EF0GA277178</td><td>1</td><td>01/03/2016</td><td>R00178</td></tr><tr><td>SALCR2BG3FH542138</td><td>1</td><td>01/03/2016</td><td>R00197</td></tr><tr><td>SALAG2V60GA812906</td><td>1</td><td>01/03/2016</td><td>R00209</td></tr><tr><td>SALAG2V68GA810689</td><td>1</td><td>01/03/2016</td><td>R00225</td></tr><tr><td>SALAG2V60GA811982</td><td>1</td><td>01/03/2016</td><td>R00268</td></tr><tr><td>SALWR2KF0GA646617</td><td>1</td><td>01/03/2016</td><td>R00285</td></tr><tr><td>SALAC2V65GA809799</td><td>1</td><td>01/03/2016</td><td>R00285</td></tr><tr><td>SALCR2BG0GH589936</td><td>1</td><td>01/03/2016</td><td>R00285</td></tr><tr><td>SALGS2KF2GA262282</td><td>1</td><td>01/03/2016</td><td>R00285</td></tr><tr><td>SALWR2VF4GA575112</td><td>1</td><td>01/03/2016</td><td>R00291</td></tr><tr><td>SALWR2EFXGA573171</td><td>1</td><td>01/03/2016</td><td>R00292</td></tr><tr><td>SALGS2EF4GA273277</td><td>1</td><td>01/03/2016</td><td>R00292</td></tr><tr><td>SALWR2EF4GA575241</td><td>1</td><td>01/03/2016</td><td>R00299</td></tr><tr><td>SALGS2EFXGA278628</td><td>1</td><td>01/03/2016</td><td>R00314</td></tr><tr><td>SALAK2V60GA803394</td><td>1</td><td>01/03/2016</td><td>R00314</td></tr><tr><td>SALAG2V69GA809132</td><td>1</td><td>01/03/2016</td><td>R00314</td></tr><tr><td>SALCR2BG8GH580238</td><td>1</td><td>01/03/2016</td><td>R00314</td></tr><tr><td>SALWR2VF5GA647452</td><td>1</td><td>01/03/2016</td><td>R00314</td></tr></table></div>\n",
       "    <br />(rows: 188443, time: 7.7s,     9MB processed, job: job_sWrR46CkJ7-DvjpIEFdwFn6z0qA)<br />\n",
       "    <script>\n",
       "\n",
       "      require.config({\n",
       "        paths: {\n",
       "          d3: '//cdnjs.cloudflare.com/ajax/libs/d3/3.4.13/d3',\n",
       "          plotly: 'https://cdn.plot.ly/plotly-1.5.1.min.js?noext',\n",
       "          jquery: '//ajax.googleapis.com/ajax/libs/jquery/2.0.0/jquery.min'\n",
       "        },\n",
       "        map: {\n",
       "          '*': {\n",
       "            datalab: 'nbextensions/gcpdatalab'\n",
       "          }\n",
       "        },\n",
       "        shim: {\n",
       "          plotly: {\n",
       "            deps: ['d3', 'jquery'],\n",
       "            exports: 'plotly'\n",
       "          }\n",
       "        }\n",
       "      });\n",
       "\n",
       "      require(['datalab/charting', 'datalab/element!7_149313341197', 'base/js/events',\n",
       "          'datalab/style!/nbextensions/gcpdatalab/charting.css'],\n",
       "        function(charts, dom, events) {\n",
       "          charts.render('gcharts', dom, events, 'paged_table', [], {\"rows\": [{\"c\": [{\"v\": \"SAJBE4BV1GCY09625\"}, {\"v\": 1}, {\"v\": \"01/03/2016\"}, {\"v\": \"J00517\"}]}, {\"c\": [{\"v\": \"SAJWA6BU2G8K32588\"}, {\"v\": 1}, {\"v\": \"01/03/2016\"}, {\"v\": \"J00517\"}]}, {\"c\": [{\"v\": \"SAJWJ6DL4GMK30384\"}, {\"v\": 1}, {\"v\": \"01/03/2016\"}, {\"v\": \"J00517\"}]}, {\"c\": [{\"v\": \"SAJWA2G73G8V95462\"}, {\"v\": 1}, {\"v\": \"01/03/2016\"}, {\"v\": \"J05537\"}]}, {\"c\": [{\"v\": \"SAJWA2G77G8V90961\"}, {\"v\": 1}, {\"v\": \"01/03/2016\"}, {\"v\": \"J05577\"}]}, {\"c\": [{\"v\": \"SALVP2BG4GH089079\"}, {\"v\": 1}, {\"v\": \"01/03/2016\"}, {\"v\": \"R00121\"}]}, {\"c\": [{\"v\": \"SALGS2VF7GA273595\"}, {\"v\": 1}, {\"v\": \"01/03/2016\"}, {\"v\": \"R00175\"}]}, {\"c\": [{\"v\": \"SALGS2EF0GA277178\"}, {\"v\": 1}, {\"v\": \"01/03/2016\"}, {\"v\": \"R00178\"}]}, {\"c\": [{\"v\": \"SALCR2BG3FH542138\"}, {\"v\": 1}, {\"v\": \"01/03/2016\"}, {\"v\": \"R00197\"}]}, {\"c\": [{\"v\": \"SALAG2V60GA812906\"}, {\"v\": 1}, {\"v\": \"01/03/2016\"}, {\"v\": \"R00209\"}]}, {\"c\": [{\"v\": \"SALAG2V68GA810689\"}, {\"v\": 1}, {\"v\": \"01/03/2016\"}, {\"v\": \"R00225\"}]}, {\"c\": [{\"v\": \"SALAG2V60GA811982\"}, {\"v\": 1}, {\"v\": \"01/03/2016\"}, {\"v\": \"R00268\"}]}, {\"c\": [{\"v\": \"SALWR2KF0GA646617\"}, {\"v\": 1}, {\"v\": \"01/03/2016\"}, {\"v\": \"R00285\"}]}, {\"c\": [{\"v\": \"SALAC2V65GA809799\"}, {\"v\": 1}, {\"v\": \"01/03/2016\"}, {\"v\": \"R00285\"}]}, {\"c\": [{\"v\": \"SALCR2BG0GH589936\"}, {\"v\": 1}, {\"v\": \"01/03/2016\"}, {\"v\": \"R00285\"}]}, {\"c\": [{\"v\": \"SALGS2KF2GA262282\"}, {\"v\": 1}, {\"v\": \"01/03/2016\"}, {\"v\": \"R00285\"}]}, {\"c\": [{\"v\": \"SALWR2VF4GA575112\"}, {\"v\": 1}, {\"v\": \"01/03/2016\"}, {\"v\": \"R00291\"}]}, {\"c\": [{\"v\": \"SALWR2EFXGA573171\"}, {\"v\": 1}, {\"v\": \"01/03/2016\"}, {\"v\": \"R00292\"}]}, {\"c\": [{\"v\": \"SALGS2EF4GA273277\"}, {\"v\": 1}, {\"v\": \"01/03/2016\"}, {\"v\": \"R00292\"}]}, {\"c\": [{\"v\": \"SALWR2EF4GA575241\"}, {\"v\": 1}, {\"v\": \"01/03/2016\"}, {\"v\": \"R00299\"}]}, {\"c\": [{\"v\": \"SALGS2EFXGA278628\"}, {\"v\": 1}, {\"v\": \"01/03/2016\"}, {\"v\": \"R00314\"}]}, {\"c\": [{\"v\": \"SALAK2V60GA803394\"}, {\"v\": 1}, {\"v\": \"01/03/2016\"}, {\"v\": \"R00314\"}]}, {\"c\": [{\"v\": \"SALAG2V69GA809132\"}, {\"v\": 1}, {\"v\": \"01/03/2016\"}, {\"v\": \"R00314\"}]}, {\"c\": [{\"v\": \"SALCR2BG8GH580238\"}, {\"v\": 1}, {\"v\": \"01/03/2016\"}, {\"v\": \"R00314\"}]}, {\"c\": [{\"v\": \"SALWR2VF5GA647452\"}, {\"v\": 1}, {\"v\": \"01/03/2016\"}, {\"v\": \"R00314\"}]}], \"cols\": [{\"type\": \"string\", \"id\": \"VIN\", \"label\": \"VIN\"}, {\"type\": \"number\", \"id\": \"Retail_Qty\", \"label\": \"Retail_Qty\"}, {\"type\": \"string\", \"id\": \"Retail_Date\", \"label\": \"Retail_Date\"}, {\"type\": \"string\", \"id\": \"Partner\", \"label\": \"Partner\"}]},\n",
       "            {\n",
       "              pageSize: 25,\n",
       "              cssClassNames:  {\n",
       "                tableRow: 'gchart-table-row',\n",
       "                headerRow: 'gchart-table-headerrow',\n",
       "                oddTableRow: 'gchart-table-oddrow',\n",
       "                selectedTableRow: 'gchart-table-selectedrow',\n",
       "                hoverTableRow: 'gchart-table-hoverrow',\n",
       "                tableCell: 'gchart-table-cell',\n",
       "                headerCell: 'gchart-table-headercell',\n",
       "                rowNumberCell: 'gchart-table-rownumcell'\n",
       "              }\n",
       "            },\n",
       "            {source_index: 6, fields: 'VIN,Retail_Qty,Retail_Date,Partner'},\n",
       "            0,\n",
       "            188443);\n",
       "        }\n",
       "      );\n",
       "    </script>\n",
       "  "
      ],
      "text/plain": [
       "QueryResultsTable job_sWrR46CkJ7-DvjpIEFdwFn6z0qA"
      ]
     },
     "execution_count": 242,
     "metadata": {},
     "output_type": "execute_result"
    }
   ],
   "source": [
    "%bq execute -q Retail_summarize_data -t , --table US_Analytics.DIM_eSMART_US_Retail_Max --mode='overwrite'"
   ]
  }
 ],
 "metadata": {
  "kernelspec": {
   "display_name": "Python 2",
   "language": "python",
   "name": "python2"
  },
  "language_info": {
   "codemirror_mode": {
    "name": "ipython",
    "version": 2
   },
   "file_extension": ".py",
   "mimetype": "text/x-python",
   "name": "python",
   "nbconvert_exporter": "python",
   "pygments_lexer": "ipython2",
   "version": "2.7.9"
  }
 },
 "nbformat": 4,
 "nbformat_minor": 2
}
